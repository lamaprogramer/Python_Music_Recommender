{
 "cells": [
  {
   "cell_type": "code",
   "execution_count": 1,
   "id": "fa8674dc",
   "metadata": {},
   "outputs": [],
   "source": [
    "import pathlib\n",
    "import matplotlib.pyplot as plt\n",
    "import tensorflow as tf\n",
    "import pandas as pd\n",
    "\n",
    "from util import preprocessing_util, audio_feature_util, clustering_util, image_util, autoencoder\n",
    "from sklearn.decomposition import PCA\n",
    "\n",
    "from tensorflow.keras.losses import MeanSquaredError"
   ]
  },
  {
   "cell_type": "code",
   "execution_count": 2,
   "id": "fe11e5d3",
   "metadata": {},
   "outputs": [],
   "source": [
    "# Global\n",
    "RANDOM_STATE = 42\n",
    "AUDIO_PATH = pathlib.Path(\"../data/custom_data/audio_files\")\n",
    "MELSPECTROGRAM_PATH = pathlib.Path(\"../data/custom_data/autoencoder_based/melspectrograms\")\n",
    "MODEL_DATA_PATH = pathlib.Path(\"../data/custom_data/autoencoder_based/model\")\n",
    "\n",
    "# Stage 0: Preprocessing\n",
    "AUDIO_DURATION = 45\n",
    "DISCARD_SHORT_AUDIO = True\n",
    "PERCENTAGE_FOR_TESTING = 5\n",
    "PERCENTAGE_FOR_VALIDATION = 15\n",
    "\n",
    "# Stage 1: Melspectrogram Dataset Generation\n",
    "IMAGE_SHAPE = (368, 496)\n",
    "BATCH_SIZE = 4\n",
    "\n",
    "# Stage 2: Autoencoder\n",
    "EPOCHS = 10\n",
    "LATENT_DIM = 8\n",
    "\n",
    "# Stage 3: Recommendation\n",
    "CLUSTER_COUNT = 10\n"
   ]
  },
  {
   "cell_type": "code",
   "execution_count": 3,
   "id": "65da8c33",
   "metadata": {},
   "outputs": [
    {
     "name": "stderr",
     "output_type": "stream",
     "text": [
      "[Parallel(n_jobs=10)]: Using backend LokyBackend with 10 concurrent workers.\n",
      "[Parallel(n_jobs=10)]: Done  2 out of 10 | elapsed:    7.1s remaining:   28.7s\n",
      "[Parallel(n_jobs=10)]: Done 10 out of 10 | elapsed:   10.0s finished\n",
      "[Parallel(n_jobs=10)]: Using backend LokyBackend with 10 concurrent workers.\n",
      "[Parallel(n_jobs=10)]: Done  2 out of 10 | elapsed:    0.0s remaining:    0.1s\n",
      "[Parallel(n_jobs=10)]: Done 10 out of 10 | elapsed:    3.4s finished\n",
      "[Parallel(n_jobs=10)]: Using backend LokyBackend with 10 concurrent workers.\n",
      "[Parallel(n_jobs=10)]: Done  2 out of 10 | elapsed:    0.0s remaining:    0.2s\n",
      "[Parallel(n_jobs=10)]: Done 10 out of 10 | elapsed:    2.1s finished\n",
      "[Parallel(n_jobs=10)]: Using backend LokyBackend with 10 concurrent workers.\n",
      "[Parallel(n_jobs=10)]: Done  2 out of 10 | elapsed:    0.0s remaining:    0.1s\n",
      "[Parallel(n_jobs=10)]: Done 10 out of 10 | elapsed:    3.3s finished\n",
      "[Parallel(n_jobs=10)]: Using backend LokyBackend with 10 concurrent workers.\n",
      "[Parallel(n_jobs=10)]: Done  2 out of 10 | elapsed:    3.4s remaining:   13.9s\n",
      "[Parallel(n_jobs=10)]: Done 10 out of 10 | elapsed:    3.6s finished\n",
      "[Parallel(n_jobs=10)]: Using backend LokyBackend with 10 concurrent workers.\n",
      "[Parallel(n_jobs=10)]: Done  2 out of 10 | elapsed:    0.0s remaining:    0.2s\n",
      "[Parallel(n_jobs=10)]: Done 10 out of 10 | elapsed:    2.2s finished\n",
      "[Parallel(n_jobs=10)]: Using backend LokyBackend with 10 concurrent workers.\n",
      "[Parallel(n_jobs=10)]: Done  2 out of 10 | elapsed:    0.0s remaining:    0.3s\n",
      "[Parallel(n_jobs=10)]: Done 10 out of 10 | elapsed:    2.9s finished\n",
      "[Parallel(n_jobs=10)]: Using backend LokyBackend with 10 concurrent workers.\n",
      "[Parallel(n_jobs=10)]: Done  2 out of 10 | elapsed:    3.3s remaining:   13.7s\n",
      "[Parallel(n_jobs=10)]: Done 10 out of 10 | elapsed:    3.6s finished\n",
      "[Parallel(n_jobs=10)]: Using backend LokyBackend with 10 concurrent workers.\n",
      "[Parallel(n_jobs=10)]: Done  2 out of 10 | elapsed:    0.0s remaining:    0.2s\n",
      "[Parallel(n_jobs=10)]: Done 10 out of 10 | elapsed:    2.3s finished\n",
      "[Parallel(n_jobs=10)]: Using backend LokyBackend with 10 concurrent workers.\n",
      "[Parallel(n_jobs=10)]: Done  2 out of 10 | elapsed:    0.0s remaining:    0.3s\n",
      "[Parallel(n_jobs=10)]: Done 10 out of 10 | elapsed:    1.8s finished\n",
      "[Parallel(n_jobs=10)]: Using backend LokyBackend with 10 concurrent workers.\n",
      "[Parallel(n_jobs=10)]: Done  2 out of 10 | elapsed:    0.0s remaining:    0.2s\n",
      "[Parallel(n_jobs=10)]: Done 10 out of 10 | elapsed:    2.5s finished\n",
      "[Parallel(n_jobs=10)]: Using backend LokyBackend with 10 concurrent workers.\n",
      "[Parallel(n_jobs=10)]: Done  2 out of 10 | elapsed:    0.0s remaining:    0.3s\n",
      "[Parallel(n_jobs=10)]: Done 10 out of 10 | elapsed:    3.0s finished\n",
      "[Parallel(n_jobs=10)]: Using backend LokyBackend with 10 concurrent workers.\n",
      "[Parallel(n_jobs=10)]: Done  2 out of 10 | elapsed:    0.0s remaining:    0.4s\n",
      "[Parallel(n_jobs=10)]: Done 10 out of 10 | elapsed:    2.5s finished\n",
      "[Parallel(n_jobs=10)]: Using backend LokyBackend with 10 concurrent workers.\n",
      "[Parallel(n_jobs=10)]: Done  2 out of 10 | elapsed:    0.1s remaining:    0.5s\n",
      "[Parallel(n_jobs=10)]: Done 10 out of 10 | elapsed:    2.7s finished\n",
      "[Parallel(n_jobs=10)]: Using backend LokyBackend with 10 concurrent workers.\n",
      "[Parallel(n_jobs=10)]: Done  2 out of 10 | elapsed:    0.1s remaining:    0.6s\n",
      "[Parallel(n_jobs=10)]: Done 10 out of 10 | elapsed:    3.1s finished\n",
      "[Parallel(n_jobs=10)]: Using backend LokyBackend with 10 concurrent workers.\n",
      "[Parallel(n_jobs=10)]: Done  2 out of 10 | elapsed:    0.0s remaining:    0.4s\n",
      "[Parallel(n_jobs=10)]: Done 10 out of 10 | elapsed:    2.3s finished\n",
      "[Parallel(n_jobs=10)]: Using backend LokyBackend with 10 concurrent workers.\n",
      "[Parallel(n_jobs=10)]: Done  2 out of 10 | elapsed:    3.2s remaining:   13.0s\n",
      "[Parallel(n_jobs=10)]: Done 10 out of 10 | elapsed:    3.4s finished\n",
      "[Parallel(n_jobs=10)]: Using backend LokyBackend with 10 concurrent workers.\n",
      "[Parallel(n_jobs=10)]: Done  2 out of 10 | elapsed:    0.1s remaining:    0.5s\n",
      "[Parallel(n_jobs=10)]: Done 10 out of 10 | elapsed:    2.7s finished\n",
      "[Parallel(n_jobs=10)]: Using backend LokyBackend with 10 concurrent workers.\n",
      "[Parallel(n_jobs=10)]: Done  2 out of 10 | elapsed:    3.0s remaining:   12.5s\n",
      "[Parallel(n_jobs=10)]: Done 10 out of 10 | elapsed:    3.3s finished\n",
      "[Parallel(n_jobs=10)]: Using backend LokyBackend with 10 concurrent workers.\n",
      "[Parallel(n_jobs=10)]: Done  2 out of 10 | elapsed:    3.8s remaining:   15.5s\n",
      "[Parallel(n_jobs=10)]: Done 10 out of 10 | elapsed:    4.0s finished\n",
      "[Parallel(n_jobs=10)]: Using backend LokyBackend with 10 concurrent workers.\n",
      "[Parallel(n_jobs=10)]: Done  2 out of 10 | elapsed:    0.0s remaining:    0.4s\n",
      "[Parallel(n_jobs=10)]: Done 10 out of 10 | elapsed:    3.1s finished\n",
      "[Parallel(n_jobs=10)]: Using backend LokyBackend with 10 concurrent workers.\n",
      "[Parallel(n_jobs=10)]: Done  2 out of 10 | elapsed:    0.0s remaining:    0.3s\n",
      "[Parallel(n_jobs=10)]: Done 10 out of 10 | elapsed:    3.1s finished\n",
      "[Parallel(n_jobs=10)]: Using backend LokyBackend with 10 concurrent workers.\n",
      "[Parallel(n_jobs=10)]: Done  2 out of 10 | elapsed:    0.0s remaining:    0.3s\n",
      "[Parallel(n_jobs=10)]: Done 10 out of 10 | elapsed:    2.2s finished\n",
      "[Parallel(n_jobs=10)]: Using backend LokyBackend with 10 concurrent workers.\n",
      "[Parallel(n_jobs=10)]: Done  2 out of 10 | elapsed:    0.1s remaining:    0.5s\n",
      "[Parallel(n_jobs=10)]: Done 10 out of 10 | elapsed:    2.0s finished\n",
      "[Parallel(n_jobs=10)]: Using backend LokyBackend with 10 concurrent workers.\n",
      "[Parallel(n_jobs=10)]: Done  2 out of 10 | elapsed:    0.0s remaining:    0.2s\n",
      "[Parallel(n_jobs=10)]: Done 10 out of 10 | elapsed:    1.7s finished\n",
      "[Parallel(n_jobs=10)]: Using backend LokyBackend with 10 concurrent workers.\n",
      "[Parallel(n_jobs=10)]: Done  2 out of 10 | elapsed:    0.0s remaining:    0.3s\n",
      "[Parallel(n_jobs=10)]: Done 10 out of 10 | elapsed:    3.0s finished\n",
      "[Parallel(n_jobs=10)]: Using backend LokyBackend with 10 concurrent workers.\n",
      "[Parallel(n_jobs=10)]: Done  2 out of 10 | elapsed:    0.0s remaining:    0.2s\n",
      "[Parallel(n_jobs=10)]: Done 10 out of 10 | elapsed:    2.4s finished\n",
      "[Parallel(n_jobs=10)]: Using backend LokyBackend with 10 concurrent workers.\n",
      "[Parallel(n_jobs=10)]: Done  2 out of 10 | elapsed:    0.0s remaining:    0.1s\n",
      "[Parallel(n_jobs=10)]: Done 10 out of 10 | elapsed:    2.5s finished\n",
      "[Parallel(n_jobs=10)]: Using backend LokyBackend with 10 concurrent workers.\n",
      "[Parallel(n_jobs=10)]: Done  2 out of 10 | elapsed:    0.0s remaining:    0.5s\n",
      "[Parallel(n_jobs=10)]: Done 10 out of 10 | elapsed:    2.5s finished\n",
      "[Parallel(n_jobs=10)]: Using backend LokyBackend with 10 concurrent workers.\n",
      "[Parallel(n_jobs=10)]: Done  2 out of 10 | elapsed:    0.0s remaining:    0.2s\n",
      "[Parallel(n_jobs=10)]: Done 10 out of 10 | elapsed:    2.7s finished\n",
      "[Parallel(n_jobs=7)]: Using backend LokyBackend with 7 concurrent workers.\n",
      "[Parallel(n_jobs=7)]: Done 2 out of 7 | elapsed:    1.2s remaining:    3.1s\n",
      "[Parallel(n_jobs=7)]: Done 7 out of 7 | elapsed:    3.0s finished\n"
     ]
    }
   ],
   "source": [
    "\"\"\"\n",
    "STAGE 0: PREPROCESSING\n",
    "\n",
    "Generate audio features and prepare data for autoencoder.\n",
    "\"\"\"\n",
    "features = audio_feature_util.load_audio_features(\n",
    "  AUDIO_PATH, \n",
    "  max_duration=AUDIO_DURATION, \n",
    "  thread_pool_size=10, \n",
    "  discard_short_audio=DISCARD_SHORT_AUDIO,\n",
    "  melspectrograms_save_path=MELSPECTROGRAM_PATH\n",
    ")\n",
    "\n",
    "preprocessing_util.split_model_resources(\n",
    "  MELSPECTROGRAM_PATH, \n",
    "  MODEL_DATA_PATH,\n",
    "  percentage_for_testing=PERCENTAGE_FOR_TESTING,\n",
    "  percentage_for_validation=PERCENTAGE_FOR_VALIDATION\n",
    ")\n",
    "  \n",
    "test_path = MODEL_DATA_PATH / \"test\"\n",
    "train_path = MODEL_DATA_PATH / \"train\"\n",
    "validation_path = MODEL_DATA_PATH / \"validation\""
   ]
  },
  {
   "cell_type": "code",
   "execution_count": 4,
   "id": "0157e399",
   "metadata": {},
   "outputs": [],
   "source": [
    "\"\"\"\n",
    "STAGE 1: MELSPECTROGRAM DATASET GENERATION\n",
    "\n",
    "Load melspectrograms and prepair them for the autoencoder.\n",
    "\"\"\"\n",
    "\n",
    "# Load raw image data.\n",
    "test_generator = image_util.load_image_dataset(test_path, image_size=IMAGE_SHAPE, normalize=True)\n",
    "train_generator = image_util.load_image_dataset(train_path, image_size=IMAGE_SHAPE, normalize=True)\n",
    "validation_generator = image_util.load_image_dataset(validation_path, image_size=IMAGE_SHAPE, normalize=True)\n"
   ]
  },
  {
   "cell_type": "code",
   "execution_count": 5,
   "id": "9d074d47",
   "metadata": {},
   "outputs": [],
   "source": [
    "# Create and batch tensorflow datasets from raw image data\n",
    "train_dataset = tf.data.Dataset.from_tensor_slices((train_generator[1], train_generator[1])).batch(BATCH_SIZE)\n",
    "validation_dataset = tf.data.Dataset.from_tensor_slices((validation_generator[1], validation_generator[1])).batch(BATCH_SIZE)\n",
    "#train_dataset = train_dataset.shuffle(buffer_size=train_dataset.cardinality(), reshuffle_each_iteration=True)"
   ]
  },
  {
   "cell_type": "code",
   "execution_count": 6,
   "id": "d357ed2e",
   "metadata": {},
   "outputs": [
    {
     "name": "stdout",
     "output_type": "stream",
     "text": [
      "Epoch 1/10\n",
      "\u001b[1m41/41\u001b[0m \u001b[32m━━━━━━━━━━━━━━━━━━━━\u001b[0m\u001b[37m\u001b[0m \u001b[1m11s\u001b[0m 203ms/step - loss: 0.0485 - val_loss: 0.0232\n",
      "Epoch 2/10\n",
      "\u001b[1m41/41\u001b[0m \u001b[32m━━━━━━━━━━━━━━━━━━━━\u001b[0m\u001b[37m\u001b[0m \u001b[1m8s\u001b[0m 190ms/step - loss: 0.0157 - val_loss: 0.0163\n",
      "Epoch 3/10\n",
      "\u001b[1m41/41\u001b[0m \u001b[32m━━━━━━━━━━━━━━━━━━━━\u001b[0m\u001b[37m\u001b[0m \u001b[1m8s\u001b[0m 188ms/step - loss: 0.0126 - val_loss: 0.0146\n",
      "Epoch 4/10\n",
      "\u001b[1m41/41\u001b[0m \u001b[32m━━━━━━━━━━━━━━━━━━━━\u001b[0m\u001b[37m\u001b[0m \u001b[1m8s\u001b[0m 196ms/step - loss: 0.0115 - val_loss: 0.0140\n",
      "Epoch 5/10\n",
      "\u001b[1m41/41\u001b[0m \u001b[32m━━━━━━━━━━━━━━━━━━━━\u001b[0m\u001b[37m\u001b[0m \u001b[1m8s\u001b[0m 197ms/step - loss: 0.0111 - val_loss: 0.0136\n",
      "Epoch 6/10\n",
      "\u001b[1m41/41\u001b[0m \u001b[32m━━━━━━━━━━━━━━━━━━━━\u001b[0m\u001b[37m\u001b[0m \u001b[1m8s\u001b[0m 194ms/step - loss: 0.0108 - val_loss: 0.0139\n",
      "Epoch 7/10\n",
      "\u001b[1m41/41\u001b[0m \u001b[32m━━━━━━━━━━━━━━━━━━━━\u001b[0m\u001b[37m\u001b[0m \u001b[1m8s\u001b[0m 200ms/step - loss: 0.0107 - val_loss: 0.0131\n",
      "Epoch 8/10\n",
      "\u001b[1m41/41\u001b[0m \u001b[32m━━━━━━━━━━━━━━━━━━━━\u001b[0m\u001b[37m\u001b[0m \u001b[1m8s\u001b[0m 192ms/step - loss: 0.0104 - val_loss: 0.0134\n",
      "Epoch 9/10\n",
      "\u001b[1m41/41\u001b[0m \u001b[32m━━━━━━━━━━━━━━━━━━━━\u001b[0m\u001b[37m\u001b[0m \u001b[1m8s\u001b[0m 189ms/step - loss: 0.0104 - val_loss: 0.0128\n",
      "Epoch 10/10\n",
      "\u001b[1m41/41\u001b[0m \u001b[32m━━━━━━━━━━━━━━━━━━━━\u001b[0m\u001b[37m\u001b[0m \u001b[1m8s\u001b[0m 189ms/step - loss: 0.0102 - val_loss: 0.0127\n"
     ]
    },
    {
     "data": {
      "text/plain": [
       "<keras.src.callbacks.history.History at 0x1af20fb3c70>"
      ]
     },
     "execution_count": 6,
     "metadata": {},
     "output_type": "execute_result"
    }
   ],
   "source": [
    "\"\"\"\n",
    "STAGE 2: AUTOENCODER\n",
    "\n",
    "Train autoencoder to extract features from melspectrograms.\n",
    "\"\"\"\n",
    "\n",
    "# Train autoencoder\n",
    "autoencoder = autoencoder.Autoencoder(LATENT_DIM, (IMAGE_SHAPE[0], IMAGE_SHAPE[1], 3))\n",
    "autoencoder.compile(optimizer='adam', loss=MeanSquaredError())\n",
    "\n",
    "autoencoder.fit(train_dataset, epochs=EPOCHS, validation_data=validation_dataset)"
   ]
  },
  {
   "cell_type": "code",
   "execution_count": 7,
   "id": "4e3c6684",
   "metadata": {},
   "outputs": [
    {
     "data": {
      "text/html": [
       "<pre style=\"white-space:pre;overflow-x:auto;line-height:normal;font-family:Menlo,'DejaVu Sans Mono',consolas,'Courier New',monospace\"><span style=\"font-weight: bold\">Model: \"sequential\"</span>\n",
       "</pre>\n"
      ],
      "text/plain": [
       "\u001b[1mModel: \"sequential\"\u001b[0m\n"
      ]
     },
     "metadata": {},
     "output_type": "display_data"
    },
    {
     "data": {
      "text/html": [
       "<pre style=\"white-space:pre;overflow-x:auto;line-height:normal;font-family:Menlo,'DejaVu Sans Mono',consolas,'Courier New',monospace\">┏━━━━━━━━━━━━━━━━━━━━━━━━━━━━━━━━━┳━━━━━━━━━━━━━━━━━━━━━━━━┳━━━━━━━━━━━━━━━┓\n",
       "┃<span style=\"font-weight: bold\"> Layer (type)                    </span>┃<span style=\"font-weight: bold\"> Output Shape           </span>┃<span style=\"font-weight: bold\">       Param # </span>┃\n",
       "┡━━━━━━━━━━━━━━━━━━━━━━━━━━━━━━━━━╇━━━━━━━━━━━━━━━━━━━━━━━━╇━━━━━━━━━━━━━━━┩\n",
       "│ conv2d (<span style=\"color: #0087ff; text-decoration-color: #0087ff\">Conv2D</span>)                 │ (<span style=\"color: #00d7ff; text-decoration-color: #00d7ff\">None</span>, <span style=\"color: #00af00; text-decoration-color: #00af00\">368</span>, <span style=\"color: #00af00; text-decoration-color: #00af00\">496</span>, <span style=\"color: #00af00; text-decoration-color: #00af00\">32</span>)   │           <span style=\"color: #00af00; text-decoration-color: #00af00\">896</span> │\n",
       "├─────────────────────────────────┼────────────────────────┼───────────────┤\n",
       "│ max_pooling2d (<span style=\"color: #0087ff; text-decoration-color: #0087ff\">MaxPooling2D</span>)    │ (<span style=\"color: #00d7ff; text-decoration-color: #00d7ff\">None</span>, <span style=\"color: #00af00; text-decoration-color: #00af00\">184</span>, <span style=\"color: #00af00; text-decoration-color: #00af00\">248</span>, <span style=\"color: #00af00; text-decoration-color: #00af00\">32</span>)   │             <span style=\"color: #00af00; text-decoration-color: #00af00\">0</span> │\n",
       "├─────────────────────────────────┼────────────────────────┼───────────────┤\n",
       "│ conv2d_1 (<span style=\"color: #0087ff; text-decoration-color: #0087ff\">Conv2D</span>)               │ (<span style=\"color: #00d7ff; text-decoration-color: #00d7ff\">None</span>, <span style=\"color: #00af00; text-decoration-color: #00af00\">184</span>, <span style=\"color: #00af00; text-decoration-color: #00af00\">248</span>, <span style=\"color: #00af00; text-decoration-color: #00af00\">16</span>)   │         <span style=\"color: #00af00; text-decoration-color: #00af00\">4,624</span> │\n",
       "├─────────────────────────────────┼────────────────────────┼───────────────┤\n",
       "│ max_pooling2d_1 (<span style=\"color: #0087ff; text-decoration-color: #0087ff\">MaxPooling2D</span>)  │ (<span style=\"color: #00d7ff; text-decoration-color: #00d7ff\">None</span>, <span style=\"color: #00af00; text-decoration-color: #00af00\">92</span>, <span style=\"color: #00af00; text-decoration-color: #00af00\">124</span>, <span style=\"color: #00af00; text-decoration-color: #00af00\">16</span>)    │             <span style=\"color: #00af00; text-decoration-color: #00af00\">0</span> │\n",
       "├─────────────────────────────────┼────────────────────────┼───────────────┤\n",
       "│ conv2d_2 (<span style=\"color: #0087ff; text-decoration-color: #0087ff\">Conv2D</span>)               │ (<span style=\"color: #00d7ff; text-decoration-color: #00d7ff\">None</span>, <span style=\"color: #00af00; text-decoration-color: #00af00\">92</span>, <span style=\"color: #00af00; text-decoration-color: #00af00\">124</span>, <span style=\"color: #00af00; text-decoration-color: #00af00\">8</span>)     │         <span style=\"color: #00af00; text-decoration-color: #00af00\">1,160</span> │\n",
       "├─────────────────────────────────┼────────────────────────┼───────────────┤\n",
       "│ max_pooling2d_2 (<span style=\"color: #0087ff; text-decoration-color: #0087ff\">MaxPooling2D</span>)  │ (<span style=\"color: #00d7ff; text-decoration-color: #00d7ff\">None</span>, <span style=\"color: #00af00; text-decoration-color: #00af00\">46</span>, <span style=\"color: #00af00; text-decoration-color: #00af00\">62</span>, <span style=\"color: #00af00; text-decoration-color: #00af00\">8</span>)      │             <span style=\"color: #00af00; text-decoration-color: #00af00\">0</span> │\n",
       "└─────────────────────────────────┴────────────────────────┴───────────────┘\n",
       "</pre>\n"
      ],
      "text/plain": [
       "┏━━━━━━━━━━━━━━━━━━━━━━━━━━━━━━━━━┳━━━━━━━━━━━━━━━━━━━━━━━━┳━━━━━━━━━━━━━━━┓\n",
       "┃\u001b[1m \u001b[0m\u001b[1mLayer (type)                   \u001b[0m\u001b[1m \u001b[0m┃\u001b[1m \u001b[0m\u001b[1mOutput Shape          \u001b[0m\u001b[1m \u001b[0m┃\u001b[1m \u001b[0m\u001b[1m      Param #\u001b[0m\u001b[1m \u001b[0m┃\n",
       "┡━━━━━━━━━━━━━━━━━━━━━━━━━━━━━━━━━╇━━━━━━━━━━━━━━━━━━━━━━━━╇━━━━━━━━━━━━━━━┩\n",
       "│ conv2d (\u001b[38;5;33mConv2D\u001b[0m)                 │ (\u001b[38;5;45mNone\u001b[0m, \u001b[38;5;34m368\u001b[0m, \u001b[38;5;34m496\u001b[0m, \u001b[38;5;34m32\u001b[0m)   │           \u001b[38;5;34m896\u001b[0m │\n",
       "├─────────────────────────────────┼────────────────────────┼───────────────┤\n",
       "│ max_pooling2d (\u001b[38;5;33mMaxPooling2D\u001b[0m)    │ (\u001b[38;5;45mNone\u001b[0m, \u001b[38;5;34m184\u001b[0m, \u001b[38;5;34m248\u001b[0m, \u001b[38;5;34m32\u001b[0m)   │             \u001b[38;5;34m0\u001b[0m │\n",
       "├─────────────────────────────────┼────────────────────────┼───────────────┤\n",
       "│ conv2d_1 (\u001b[38;5;33mConv2D\u001b[0m)               │ (\u001b[38;5;45mNone\u001b[0m, \u001b[38;5;34m184\u001b[0m, \u001b[38;5;34m248\u001b[0m, \u001b[38;5;34m16\u001b[0m)   │         \u001b[38;5;34m4,624\u001b[0m │\n",
       "├─────────────────────────────────┼────────────────────────┼───────────────┤\n",
       "│ max_pooling2d_1 (\u001b[38;5;33mMaxPooling2D\u001b[0m)  │ (\u001b[38;5;45mNone\u001b[0m, \u001b[38;5;34m92\u001b[0m, \u001b[38;5;34m124\u001b[0m, \u001b[38;5;34m16\u001b[0m)    │             \u001b[38;5;34m0\u001b[0m │\n",
       "├─────────────────────────────────┼────────────────────────┼───────────────┤\n",
       "│ conv2d_2 (\u001b[38;5;33mConv2D\u001b[0m)               │ (\u001b[38;5;45mNone\u001b[0m, \u001b[38;5;34m92\u001b[0m, \u001b[38;5;34m124\u001b[0m, \u001b[38;5;34m8\u001b[0m)     │         \u001b[38;5;34m1,160\u001b[0m │\n",
       "├─────────────────────────────────┼────────────────────────┼───────────────┤\n",
       "│ max_pooling2d_2 (\u001b[38;5;33mMaxPooling2D\u001b[0m)  │ (\u001b[38;5;45mNone\u001b[0m, \u001b[38;5;34m46\u001b[0m, \u001b[38;5;34m62\u001b[0m, \u001b[38;5;34m8\u001b[0m)      │             \u001b[38;5;34m0\u001b[0m │\n",
       "└─────────────────────────────────┴────────────────────────┴───────────────┘\n"
      ]
     },
     "metadata": {},
     "output_type": "display_data"
    },
    {
     "data": {
      "text/html": [
       "<pre style=\"white-space:pre;overflow-x:auto;line-height:normal;font-family:Menlo,'DejaVu Sans Mono',consolas,'Courier New',monospace\"><span style=\"font-weight: bold\"> Total params: </span><span style=\"color: #00af00; text-decoration-color: #00af00\">6,680</span> (26.09 KB)\n",
       "</pre>\n"
      ],
      "text/plain": [
       "\u001b[1m Total params: \u001b[0m\u001b[38;5;34m6,680\u001b[0m (26.09 KB)\n"
      ]
     },
     "metadata": {},
     "output_type": "display_data"
    },
    {
     "data": {
      "text/html": [
       "<pre style=\"white-space:pre;overflow-x:auto;line-height:normal;font-family:Menlo,'DejaVu Sans Mono',consolas,'Courier New',monospace\"><span style=\"font-weight: bold\"> Trainable params: </span><span style=\"color: #00af00; text-decoration-color: #00af00\">6,680</span> (26.09 KB)\n",
       "</pre>\n"
      ],
      "text/plain": [
       "\u001b[1m Trainable params: \u001b[0m\u001b[38;5;34m6,680\u001b[0m (26.09 KB)\n"
      ]
     },
     "metadata": {},
     "output_type": "display_data"
    },
    {
     "data": {
      "text/html": [
       "<pre style=\"white-space:pre;overflow-x:auto;line-height:normal;font-family:Menlo,'DejaVu Sans Mono',consolas,'Courier New',monospace\"><span style=\"font-weight: bold\"> Non-trainable params: </span><span style=\"color: #00af00; text-decoration-color: #00af00\">0</span> (0.00 B)\n",
       "</pre>\n"
      ],
      "text/plain": [
       "\u001b[1m Non-trainable params: \u001b[0m\u001b[38;5;34m0\u001b[0m (0.00 B)\n"
      ]
     },
     "metadata": {},
     "output_type": "display_data"
    },
    {
     "data": {
      "text/html": [
       "<pre style=\"white-space:pre;overflow-x:auto;line-height:normal;font-family:Menlo,'DejaVu Sans Mono',consolas,'Courier New',monospace\"><span style=\"font-weight: bold\">Model: \"sequential_1\"</span>\n",
       "</pre>\n"
      ],
      "text/plain": [
       "\u001b[1mModel: \"sequential_1\"\u001b[0m\n"
      ]
     },
     "metadata": {},
     "output_type": "display_data"
    },
    {
     "data": {
      "text/html": [
       "<pre style=\"white-space:pre;overflow-x:auto;line-height:normal;font-family:Menlo,'DejaVu Sans Mono',consolas,'Courier New',monospace\">┏━━━━━━━━━━━━━━━━━━━━━━━━━━━━━━━━━┳━━━━━━━━━━━━━━━━━━━━━━━━┳━━━━━━━━━━━━━━━┓\n",
       "┃<span style=\"font-weight: bold\"> Layer (type)                    </span>┃<span style=\"font-weight: bold\"> Output Shape           </span>┃<span style=\"font-weight: bold\">       Param # </span>┃\n",
       "┡━━━━━━━━━━━━━━━━━━━━━━━━━━━━━━━━━╇━━━━━━━━━━━━━━━━━━━━━━━━╇━━━━━━━━━━━━━━━┩\n",
       "│ conv2d_3 (<span style=\"color: #0087ff; text-decoration-color: #0087ff\">Conv2D</span>)               │ (<span style=\"color: #00d7ff; text-decoration-color: #00d7ff\">None</span>, <span style=\"color: #00af00; text-decoration-color: #00af00\">46</span>, <span style=\"color: #00af00; text-decoration-color: #00af00\">62</span>, <span style=\"color: #00af00; text-decoration-color: #00af00\">8</span>)      │           <span style=\"color: #00af00; text-decoration-color: #00af00\">584</span> │\n",
       "├─────────────────────────────────┼────────────────────────┼───────────────┤\n",
       "│ up_sampling2d (<span style=\"color: #0087ff; text-decoration-color: #0087ff\">UpSampling2D</span>)    │ (<span style=\"color: #00d7ff; text-decoration-color: #00d7ff\">None</span>, <span style=\"color: #00af00; text-decoration-color: #00af00\">92</span>, <span style=\"color: #00af00; text-decoration-color: #00af00\">124</span>, <span style=\"color: #00af00; text-decoration-color: #00af00\">8</span>)     │             <span style=\"color: #00af00; text-decoration-color: #00af00\">0</span> │\n",
       "├─────────────────────────────────┼────────────────────────┼───────────────┤\n",
       "│ conv2d_4 (<span style=\"color: #0087ff; text-decoration-color: #0087ff\">Conv2D</span>)               │ (<span style=\"color: #00d7ff; text-decoration-color: #00d7ff\">None</span>, <span style=\"color: #00af00; text-decoration-color: #00af00\">92</span>, <span style=\"color: #00af00; text-decoration-color: #00af00\">124</span>, <span style=\"color: #00af00; text-decoration-color: #00af00\">16</span>)    │         <span style=\"color: #00af00; text-decoration-color: #00af00\">1,168</span> │\n",
       "├─────────────────────────────────┼────────────────────────┼───────────────┤\n",
       "│ up_sampling2d_1 (<span style=\"color: #0087ff; text-decoration-color: #0087ff\">UpSampling2D</span>)  │ (<span style=\"color: #00d7ff; text-decoration-color: #00d7ff\">None</span>, <span style=\"color: #00af00; text-decoration-color: #00af00\">184</span>, <span style=\"color: #00af00; text-decoration-color: #00af00\">248</span>, <span style=\"color: #00af00; text-decoration-color: #00af00\">16</span>)   │             <span style=\"color: #00af00; text-decoration-color: #00af00\">0</span> │\n",
       "├─────────────────────────────────┼────────────────────────┼───────────────┤\n",
       "│ conv2d_5 (<span style=\"color: #0087ff; text-decoration-color: #0087ff\">Conv2D</span>)               │ (<span style=\"color: #00d7ff; text-decoration-color: #00d7ff\">None</span>, <span style=\"color: #00af00; text-decoration-color: #00af00\">184</span>, <span style=\"color: #00af00; text-decoration-color: #00af00\">248</span>, <span style=\"color: #00af00; text-decoration-color: #00af00\">32</span>)   │         <span style=\"color: #00af00; text-decoration-color: #00af00\">4,640</span> │\n",
       "├─────────────────────────────────┼────────────────────────┼───────────────┤\n",
       "│ up_sampling2d_2 (<span style=\"color: #0087ff; text-decoration-color: #0087ff\">UpSampling2D</span>)  │ (<span style=\"color: #00d7ff; text-decoration-color: #00d7ff\">None</span>, <span style=\"color: #00af00; text-decoration-color: #00af00\">368</span>, <span style=\"color: #00af00; text-decoration-color: #00af00\">496</span>, <span style=\"color: #00af00; text-decoration-color: #00af00\">32</span>)   │             <span style=\"color: #00af00; text-decoration-color: #00af00\">0</span> │\n",
       "├─────────────────────────────────┼────────────────────────┼───────────────┤\n",
       "│ conv2d_6 (<span style=\"color: #0087ff; text-decoration-color: #0087ff\">Conv2D</span>)               │ (<span style=\"color: #00d7ff; text-decoration-color: #00d7ff\">None</span>, <span style=\"color: #00af00; text-decoration-color: #00af00\">368</span>, <span style=\"color: #00af00; text-decoration-color: #00af00\">496</span>, <span style=\"color: #00af00; text-decoration-color: #00af00\">3</span>)    │           <span style=\"color: #00af00; text-decoration-color: #00af00\">867</span> │\n",
       "└─────────────────────────────────┴────────────────────────┴───────────────┘\n",
       "</pre>\n"
      ],
      "text/plain": [
       "┏━━━━━━━━━━━━━━━━━━━━━━━━━━━━━━━━━┳━━━━━━━━━━━━━━━━━━━━━━━━┳━━━━━━━━━━━━━━━┓\n",
       "┃\u001b[1m \u001b[0m\u001b[1mLayer (type)                   \u001b[0m\u001b[1m \u001b[0m┃\u001b[1m \u001b[0m\u001b[1mOutput Shape          \u001b[0m\u001b[1m \u001b[0m┃\u001b[1m \u001b[0m\u001b[1m      Param #\u001b[0m\u001b[1m \u001b[0m┃\n",
       "┡━━━━━━━━━━━━━━━━━━━━━━━━━━━━━━━━━╇━━━━━━━━━━━━━━━━━━━━━━━━╇━━━━━━━━━━━━━━━┩\n",
       "│ conv2d_3 (\u001b[38;5;33mConv2D\u001b[0m)               │ (\u001b[38;5;45mNone\u001b[0m, \u001b[38;5;34m46\u001b[0m, \u001b[38;5;34m62\u001b[0m, \u001b[38;5;34m8\u001b[0m)      │           \u001b[38;5;34m584\u001b[0m │\n",
       "├─────────────────────────────────┼────────────────────────┼───────────────┤\n",
       "│ up_sampling2d (\u001b[38;5;33mUpSampling2D\u001b[0m)    │ (\u001b[38;5;45mNone\u001b[0m, \u001b[38;5;34m92\u001b[0m, \u001b[38;5;34m124\u001b[0m, \u001b[38;5;34m8\u001b[0m)     │             \u001b[38;5;34m0\u001b[0m │\n",
       "├─────────────────────────────────┼────────────────────────┼───────────────┤\n",
       "│ conv2d_4 (\u001b[38;5;33mConv2D\u001b[0m)               │ (\u001b[38;5;45mNone\u001b[0m, \u001b[38;5;34m92\u001b[0m, \u001b[38;5;34m124\u001b[0m, \u001b[38;5;34m16\u001b[0m)    │         \u001b[38;5;34m1,168\u001b[0m │\n",
       "├─────────────────────────────────┼────────────────────────┼───────────────┤\n",
       "│ up_sampling2d_1 (\u001b[38;5;33mUpSampling2D\u001b[0m)  │ (\u001b[38;5;45mNone\u001b[0m, \u001b[38;5;34m184\u001b[0m, \u001b[38;5;34m248\u001b[0m, \u001b[38;5;34m16\u001b[0m)   │             \u001b[38;5;34m0\u001b[0m │\n",
       "├─────────────────────────────────┼────────────────────────┼───────────────┤\n",
       "│ conv2d_5 (\u001b[38;5;33mConv2D\u001b[0m)               │ (\u001b[38;5;45mNone\u001b[0m, \u001b[38;5;34m184\u001b[0m, \u001b[38;5;34m248\u001b[0m, \u001b[38;5;34m32\u001b[0m)   │         \u001b[38;5;34m4,640\u001b[0m │\n",
       "├─────────────────────────────────┼────────────────────────┼───────────────┤\n",
       "│ up_sampling2d_2 (\u001b[38;5;33mUpSampling2D\u001b[0m)  │ (\u001b[38;5;45mNone\u001b[0m, \u001b[38;5;34m368\u001b[0m, \u001b[38;5;34m496\u001b[0m, \u001b[38;5;34m32\u001b[0m)   │             \u001b[38;5;34m0\u001b[0m │\n",
       "├─────────────────────────────────┼────────────────────────┼───────────────┤\n",
       "│ conv2d_6 (\u001b[38;5;33mConv2D\u001b[0m)               │ (\u001b[38;5;45mNone\u001b[0m, \u001b[38;5;34m368\u001b[0m, \u001b[38;5;34m496\u001b[0m, \u001b[38;5;34m3\u001b[0m)    │           \u001b[38;5;34m867\u001b[0m │\n",
       "└─────────────────────────────────┴────────────────────────┴───────────────┘\n"
      ]
     },
     "metadata": {},
     "output_type": "display_data"
    },
    {
     "data": {
      "text/html": [
       "<pre style=\"white-space:pre;overflow-x:auto;line-height:normal;font-family:Menlo,'DejaVu Sans Mono',consolas,'Courier New',monospace\"><span style=\"font-weight: bold\"> Total params: </span><span style=\"color: #00af00; text-decoration-color: #00af00\">7,259</span> (28.36 KB)\n",
       "</pre>\n"
      ],
      "text/plain": [
       "\u001b[1m Total params: \u001b[0m\u001b[38;5;34m7,259\u001b[0m (28.36 KB)\n"
      ]
     },
     "metadata": {},
     "output_type": "display_data"
    },
    {
     "data": {
      "text/html": [
       "<pre style=\"white-space:pre;overflow-x:auto;line-height:normal;font-family:Menlo,'DejaVu Sans Mono',consolas,'Courier New',monospace\"><span style=\"font-weight: bold\"> Trainable params: </span><span style=\"color: #00af00; text-decoration-color: #00af00\">7,259</span> (28.36 KB)\n",
       "</pre>\n"
      ],
      "text/plain": [
       "\u001b[1m Trainable params: \u001b[0m\u001b[38;5;34m7,259\u001b[0m (28.36 KB)\n"
      ]
     },
     "metadata": {},
     "output_type": "display_data"
    },
    {
     "data": {
      "text/html": [
       "<pre style=\"white-space:pre;overflow-x:auto;line-height:normal;font-family:Menlo,'DejaVu Sans Mono',consolas,'Courier New',monospace\"><span style=\"font-weight: bold\"> Non-trainable params: </span><span style=\"color: #00af00; text-decoration-color: #00af00\">0</span> (0.00 B)\n",
       "</pre>\n"
      ],
      "text/plain": [
       "\u001b[1m Non-trainable params: \u001b[0m\u001b[38;5;34m0\u001b[0m (0.00 B)\n"
      ]
     },
     "metadata": {},
     "output_type": "display_data"
    }
   ],
   "source": [
    "autoencoder.encoder.summary()\n",
    "autoencoder.decoder.summary()"
   ]
  },
  {
   "cell_type": "code",
   "execution_count": 8,
   "id": "41ba34ad",
   "metadata": {},
   "outputs": [],
   "source": [
    "# outp = autoencoder.encoder.predict(test_generator_normalized)\n",
    "# new_images = autoencoder.decoder.predict(outp)\n",
    "# display(test_generator[0])\n",
    "\n",
    "# for image in new_images:\n",
    "#   ax = plt.imshow(image)\n",
    "#   plt.show()"
   ]
  },
  {
   "cell_type": "code",
   "execution_count": 9,
   "id": "906590ef",
   "metadata": {},
   "outputs": [
    {
     "name": "stdout",
     "output_type": "stream",
     "text": [
      "\u001b[1m6/6\u001b[0m \u001b[32m━━━━━━━━━━━━━━━━━━━━\u001b[0m\u001b[37m\u001b[0m \u001b[1m1s\u001b[0m 176ms/step\n"
     ]
    }
   ],
   "source": [
    "\"\"\"\n",
    "STAGE 3: RECOMMENDATION\n",
    "\n",
    "Extract features from melspectrograms using autoencoder, reduce it's dimensionality with PCA,\n",
    "identify clusters with Kmeans, and use euclidean distance to find the best recommendation.\n",
    "\"\"\"\n",
    "\n",
    "# Get main features from encoder, and normalize to a range between -1 and 1\n",
    "main_dataset = autoencoder.encoder.predict(train_generator[1])\n",
    "main_dataset = main_dataset.reshape(main_dataset.shape[0], main_dataset.shape[1] * main_dataset.shape[2] * main_dataset.shape[3])\n",
    "normalized_main_dataset = audio_feature_util.normalize(main_dataset)"
   ]
  },
  {
   "cell_type": "code",
   "execution_count": 10,
   "id": "c763766f",
   "metadata": {},
   "outputs": [
    {
     "name": "stdout",
     "output_type": "stream",
     "text": [
      "\u001b[1m1/1\u001b[0m \u001b[32m━━━━━━━━━━━━━━━━━━━━\u001b[0m\u001b[37m\u001b[0m \u001b[1m0s\u001b[0m 105ms/step\n"
     ]
    }
   ],
   "source": [
    "# Get input features from encoder, and normalize relative to the main features\n",
    "test_dataset = autoencoder.encoder.predict(test_generator[1])\n",
    "test_dataset = test_dataset.reshape(test_dataset.shape[0], test_dataset.shape[1] * test_dataset.shape[2] * test_dataset.shape[3])\n",
    "normalized_test_dataset = audio_feature_util.normalize(test_dataset, relative_to=main_dataset)"
   ]
  },
  {
   "cell_type": "code",
   "execution_count": 11,
   "id": "e371987a",
   "metadata": {},
   "outputs": [
    {
     "data": {
      "image/png": "[encoded data removed]",
      "text/plain": [
       "<Figure size 640x480 with 1 Axes>"
      ]
     },
     "metadata": {},
     "output_type": "display_data"
    },
    {
     "name": "stdout",
     "output_type": "stream",
     "text": [
      "Input:         001 ANOTHER HIM.png\n",
      "Best Match:    30 - The House (Trapped).png\n",
      "----------------------------------\n",
      "Input:         002 Beginning.png\n",
      "Best Match:    150 The Third Sanctuary.png\n",
      "----------------------------------\n",
      "Input:         003 School.png\n",
      "Best Match:    41 - Credits.png\n",
      "----------------------------------\n",
      "Input:         008 The Legend.png\n",
      "Best Match:    092 Sandy Board.png\n",
      "----------------------------------\n",
      "Input:         009 Lancer.png\n",
      "Best Match:    120 SWORD.png\n",
      "----------------------------------\n",
      "Input:         010 Rude Buster.png\n",
      "Best Match:    098 Ruder Buster.png\n",
      "----------------------------------\n",
      "Input:         011 Empty Town.png\n",
      "Best Match:    toby fox - UNDERTALE Soundtrack - 34 Memory.png\n",
      "----------------------------------\n",
      "Input:         013 Field of Hopes and Dreams.png\n",
      "Best Match:    toby fox - UNDERTALE Soundtrack - 65 CORE.png\n",
      "----------------------------------\n",
      "Input:         015 Lantern.png\n",
      "Best Match:    toby fox - UNDERTALE Soundtrack - 65 CORE.png\n",
      "----------------------------------\n",
      "Input:         017 Checker Dance.png\n",
      "Best Match:    108 KING OF ROLYPOLY.png\n",
      "----------------------------------\n",
      "Input:         018 Quiet Autumn.png\n",
      "Best Match:    37 - It's Finally Over.png\n",
      "----------------------------------\n"
     ]
    }
   ],
   "source": [
    "# Apply PCA for dimensional reduction.\n",
    "pca = PCA(n_components=2, random_state=RANDOM_STATE)\n",
    "main_dataset_pca = pd.DataFrame(pca.fit_transform(normalized_main_dataset), columns=[\"pca1\", \"pca2\"])\n",
    "test_dataset_pca = pd.DataFrame(pca.transform(normalized_test_dataset), columns=[\"pca1\", \"pca2\"])\n",
    "\n",
    "# Cluster with Kmeans, then find closest clusters to the testing data.\n",
    "clusters_pca, centroids_pca = clustering_util.kmeans_clustering(main_dataset_pca, n_clusters=CLUSTER_COUNT, random_state=RANDOM_STATE)\n",
    "allocated_clusters = clustering_util.closest_clusters_euclidean(test_dataset_pca, centroids_pca)\n",
    "clustering_util.plot_clusters(main_dataset_pca.values, clusters_pca)\n",
    "\n",
    "# Add labels to datasets for identification.\n",
    "main_dataset_pca.insert(loc=0, column=\"filename\", value=train_generator[0])\n",
    "test_dataset_pca.insert(loc=0, column=\"filename\", value=test_generator[0])\n",
    "\n",
    "# Loop through clusters and print out the best matching song for each row of testing data.\n",
    "main_dataset_pca = main_dataset_pca.groupby(clusters_pca)\n",
    "for i in range(len(allocated_clusters)):\n",
    "  row = test_dataset_pca.drop(\"filename\", axis=1).iloc[i]\n",
    "  group = main_dataset_pca.get_group(allocated_clusters[i])\n",
    "  \n",
    "  closest_point = clustering_util.closest_points_euclidean([row], group.drop(\"filename\", axis=1)).argmin()\n",
    "  print(\"Input:         \" + test_dataset_pca.iloc[i][\"filename\"])\n",
    "  print(\"Best Match:    \" + group.iloc[closest_point][\"filename\"])\n",
    "  print(\"----------------------------------\")\n"
   ]
  }
 ],
 "metadata": {
  "kernelspec": {
   "display_name": "python-music-recommender",
   "language": "python",
   "name": "python3"
  },
  "language_info": {
   "codemirror_mode": {
    "name": "ipython",
    "version": 3
   },
   "file_extension": ".py",
   "mimetype": "text/x-python",
   "name": "python",
   "nbconvert_exporter": "python",
   "pygments_lexer": "ipython3",
   "version": "3.10.18"
  }
 },
 "nbformat": 4,
 "nbformat_minor": 5
}
